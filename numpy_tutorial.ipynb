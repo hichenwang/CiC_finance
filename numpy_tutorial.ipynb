{
 "cells": [
  {
   "cell_type": "markdown",
   "metadata": {},
   "source": [
    "# Intro to Numpy\n",
    "\n",
    "### Say it with me: \"num-pie\""
   ]
  },
  {
   "cell_type": "markdown",
   "metadata": {},
   "source": [
    "NumPy’s main object is the homogeneous multidimensional array. It is a table of elements (usually numbers), all of the same type, indexed by a tuple of positive integers. In NumPy dimensions are called axes. The number of axes is rank."
   ]
  },
  {
   "cell_type": "code",
   "execution_count": 10,
   "metadata": {
    "collapsed": true
   },
   "outputs": [],
   "source": [
    "import numpy as np\n",
    "import matplotlib.pyplot as plt\n",
    "\n",
    "%matplotlib inline"
   ]
  },
  {
   "cell_type": "code",
   "execution_count": 9,
   "metadata": {
    "collapsed": false
   },
   "outputs": [
    {
     "name": "stdout",
     "output_type": "stream",
     "text": [
      "Arr1 without any shape:\n",
      "[ 0  1  2  3  4  5  6  7  8  9 10 11 12 13 14 15 16 17 18 19 20 21 22 23 24\n",
      " 25 26 27 28 29 30 31 32 33 34 35 36 37 38 39 40 41 42 43 44 45 46 47 48 49\n",
      " 50 51 52 53 54 55 56 57 58 59 60 61 62 63 64 65 66 67 68 69 70 71 72 73 74\n",
      " 75 76 77 78 79 80 81 82 83 84 85 86 87 88 89 90 91 92 93 94 95 96 97 98 99]\n",
      "\n",
      "Arr1 as a 10 by 10:\n",
      "[[ 0  1  2  3  4  5  6  7  8  9]\n",
      " [10 11 12 13 14 15 16 17 18 19]\n",
      " [20 21 22 23 24 25 26 27 28 29]\n",
      " [30 31 32 33 34 35 36 37 38 39]\n",
      " [40 41 42 43 44 45 46 47 48 49]\n",
      " [50 51 52 53 54 55 56 57 58 59]\n",
      " [60 61 62 63 64 65 66 67 68 69]\n",
      " [70 71 72 73 74 75 76 77 78 79]\n",
      " [80 81 82 83 84 85 86 87 88 89]\n",
      " [90 91 92 93 94 95 96 97 98 99]]\n",
      "\n"
     ]
    }
   ],
   "source": [
    "# Arrays\n",
    "\n",
    "# Arrays are lists, in other programming languages,\n",
    "# lists are called arrays. In Python, we just call them lists. There is no difference.\n",
    "\n",
    "arr1 = np.arange(100)\n",
    "print(\"Arr1 without any shape:\\n{}\\n\".format(arr1))\n",
    "\n",
    "arr1 = np.arange(100).reshape(10,10)\n",
    "print(\"Arr1 as a 10 by 10:\\n{}\\n\".format(arr1))"
   ]
  },
  {
   "cell_type": "code",
   "execution_count": 29,
   "metadata": {
    "collapsed": false,
    "scrolled": true
   },
   "outputs": [
    {
     "name": "stdout",
     "output_type": "stream",
     "text": [
      "\t\t\tBinary: for 1-10:\n",
      "['1', '10', '11', '100', '101', '110', '111', '1000', '1001', '1010']\n"
     ]
    }
   ],
   "source": [
    "# Representing binary\n",
    "binary = [np.binary_repr(i) for i in range(1,11)]\n",
    "print(\"\\t\\t\\tBinary: for 1-10:\\n{}\".format(binary))"
   ]
  },
  {
   "cell_type": "markdown",
   "metadata": {},
   "source": [
    "### [Bernoulli Random Variables](https://docs.scipy.org/doc/numpy-1.13.0/reference/generated/numpy.random.binomial.html)"
   ]
  },
  {
   "cell_type": "code",
   "execution_count": 34,
   "metadata": {
    "collapsed": false
   },
   "outputs": [
    {
     "name": "stdout",
     "output_type": "stream",
     "text": [
      "Result of 100 experiments, 10 coin flips with a fair-weighted coin:\n",
      "[[2 5 3 5 9 6 4 6 7 3]\n",
      " [4 6 3 4 5 7 9 7 3 5]\n",
      " [5 2 3 4 7 6 6 4 6 5]\n",
      " [5 5 5 7 7 7 5 4 5 6]\n",
      " [5 7 7 6 4 8 7 5 5 5]\n",
      " [4 5 7 4 7 2 6 2 5 5]\n",
      " [4 6 5 4 5 5 5 5 7 6]\n",
      " [4 6 4 6 5 3 4 2 6 4]\n",
      " [3 5 4 8 6 7 7 5 7 5]\n",
      " [5 6 5 5 5 3 5 4 6 4]]\n"
     ]
    }
   ],
   "source": [
    "# Bernnoulli RV's:\n",
    "\n",
    "n, p = 10, .5 # Number of flips, with probability .5\n",
    "s = np.random.binomial(n, p, 100)\n",
    "print(\"Result of 100 experiments, 10 coin flips with a fair-weighted coin:\\n{}\".format(s.reshape(10,10)))"
   ]
  },
  {
   "cell_type": "markdown",
   "metadata": {},
   "source": [
    "### More on random samples from all kinds of distributions: [link](https://docs.scipy.org/doc/numpy-1.13.0/reference/routines.random.html)"
   ]
  },
  {
   "cell_type": "code",
   "execution_count": 35,
   "metadata": {
    "collapsed": false
   },
   "outputs": [
    {
     "data": {
      "image/png": "[encoded data removed]",
      "text/plain": [
       "<matplotlib.figure.Figure at 0x1063296d8>"
      ]
     },
     "metadata": {},
     "output_type": "display_data"
    }
   ],
   "source": [
    "# Simple linear Regression with Least Squares Method\n",
    "\n",
    "moisture = [12, 15, 7, 17, 10, 11, 11, 12, 14, 9, 16, 8, 18, 14, 12]\n",
    "humidity = [46, 53, 29, 61, 36, 39, 47, 49, 52, 38, 55, 32, 57, 54, 44]\n",
    "\n",
    "def simple_regression(x_i, y_i):\n",
    "    n = len(x_i)\n",
    "    \n",
    "    # Transforming your lists to numpy arrays\n",
    "    x_i = np.array(x_i)\n",
    "    y_i = np.array(y_i)\n",
    "    \n",
    "    # Equivelent to X-Bar is np.average(RV's)\n",
    "    x_bar = np.average(x_i)\n",
    "    y_bar = np.average(y_i)\n",
    "\n",
    "    xy_sum = np.sum(x_i*y_i)\n",
    "    y_sum = y_i.sum()\n",
    "\n",
    "    # Computing the sum of X_i's squared\n",
    "    xx_sum = sum(x_i*x_i)\n",
    "\n",
    "    # computing the esitmators of alpha and beta\n",
    "    B = (xy_sum - x_bar*y_sum) / (xx_sum - n*x_bar**2)\n",
    "    A = (y_bar - B*x_bar)\n",
    "    \n",
    "    # Range for your regression line\n",
    "    top = np.max(x_i)\n",
    "    bot = np.min(x_i)\n",
    "    \n",
    "    # Plot for your line\n",
    "    X_plot = np.linspace(bot, top, 100)\n",
    "    plt.scatter(moisture, humidity)\n",
    "    plt.plot(X_plot, A + B*X_plot)\n",
    "    plt.show()\n",
    "    \n",
    "simple_regression(moisture, humidity)"
   ]
  }
 ],
 "metadata": {
  "anaconda-cloud": {},
  "kernelspec": {
   "display_name": "Python [default]",
   "language": "python",
   "name": "python3"
  },
  "language_info": {
   "codemirror_mode": {
    "name": "ipython",
    "version": 3
   },
   "file_extension": ".py",
   "mimetype": "text/x-python",
   "name": "python",
   "nbconvert_exporter": "python",
   "pygments_lexer": "ipython3",
   "version": "3.5.2"
  }
 },
 "nbformat": 4,
 "nbformat_minor": 2
}
